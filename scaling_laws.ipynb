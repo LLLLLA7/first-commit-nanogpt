version https://git-lfs.github.com/spec/v1
oid sha256:b0afb31499e7411c535881f93d9fee8a6a073e83bc8ae81e5e1ade11ba68bdb0
size 268509
